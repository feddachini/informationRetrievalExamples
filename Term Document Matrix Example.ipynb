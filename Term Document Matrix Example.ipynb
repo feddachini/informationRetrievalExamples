{
 "cells": [
  {
   "cell_type": "code",
   "execution_count": 1,
   "id": "94e024f8",
   "metadata": {},
   "outputs": [],
   "source": [
    "doc1 = \"Fed is from NJ and runs hurdles\"\n",
    "doc2 = \"Chris is from NJ and runs the 400\"\n",
    "doc3 = \"Fed and Chris both run track in NJ\""
   ]
  },
  {
   "cell_type": "code",
   "execution_count": 2,
   "id": "6d9afe14",
   "metadata": {},
   "outputs": [
    {
     "data": {
      "text/plain": [
       "['Fed is from NJ and runs hurdles',\n",
       " 'Chris is from NJ and runs the 400',\n",
       " 'Fed and Chris both run track in NJ']"
      ]
     },
     "execution_count": 2,
     "metadata": {},
     "output_type": "execute_result"
    }
   ],
   "source": [
    "docs = [doc1,doc2,doc3]\n",
    "docs"
   ]
  },
  {
   "cell_type": "code",
   "execution_count": 3,
   "id": "a0b3f9fc",
   "metadata": {},
   "outputs": [
    {
     "data": {
      "text/plain": [
       "{'400',\n",
       " 'Chris',\n",
       " 'Fed',\n",
       " 'NJ',\n",
       " 'and',\n",
       " 'both',\n",
       " 'from',\n",
       " 'hurdles',\n",
       " 'in',\n",
       " 'is',\n",
       " 'run',\n",
       " 'runs',\n",
       " 'the',\n",
       " 'track'}"
      ]
     },
     "execution_count": 3,
     "metadata": {},
     "output_type": "execute_result"
    }
   ],
   "source": [
    "uniqueTerms = { term for doc in docs for term in doc.split()}\n",
    "uniqueTerms"
   ]
  },
  {
   "cell_type": "code",
   "execution_count": 4,
   "id": "10b054be",
   "metadata": {},
   "outputs": [
    {
     "data": {
      "text/plain": [
       "{'runs': [0, 0, 1],\n",
       " 'track': [1, 1, 0],\n",
       " 'from': [0, 0, 1],\n",
       " 'the': [1, 0, 1],\n",
       " 'Chris': [1, 0, 0],\n",
       " '400': [1, 0, 1],\n",
       " 'run': [0, 0, 0],\n",
       " 'and': [0, 0, 0],\n",
       " 'in': [1, 1, 0],\n",
       " 'Fed': [0, 1, 0],\n",
       " 'hurdles': [0, 1, 1],\n",
       " 'both': [1, 1, 0],\n",
       " 'is': [0, 0, 0],\n",
       " 'NJ': [0, 0, 0]}"
      ]
     },
     "execution_count": 4,
     "metadata": {},
     "output_type": "execute_result"
    }
   ],
   "source": [
    "termDoc = {}\n",
    "\n",
    "for term in uniqueTerms:\n",
    "    termDoc[term] = []\n",
    "    \n",
    "for term in uniqueTerms:\n",
    "    for doc in docs:\n",
    "        if term in doc:\n",
    "            termDoc[term].append(0)\n",
    "        else: termDoc[term].append(1)\n",
    "            \n",
    "termDoc"
   ]
  },
  {
   "cell_type": "code",
   "execution_count": 5,
   "id": "8fbc347d",
   "metadata": {},
   "outputs": [
    {
     "name": "stdout",
     "output_type": "stream",
     "text": [
      "[0 1 0]\n",
      "[1 0 0]\n",
      "-------\n",
      "[1 1 0]\n"
     ]
    }
   ],
   "source": [
    "#Query: find all documents that contain 'chris' and 'fed;'\n",
    "#just a bitwise AND\n",
    "\n",
    "import numpy as np\n",
    "\n",
    "#using np to wrap docs as an array \n",
    "\n",
    "docsArray = np.array(docs, dtype = 'object')\n",
    "\n",
    "v1 = np.array(termDoc['Fed'])\n",
    "v2 = np.array(termDoc['Chris'])\n",
    "\n",
    "print(v1)\n",
    "print(v2)\n",
    "print(\"-------\")\n",
    "v3 = v1 | v2\n",
    "#v3 = [1 1 1]\n",
    "print(v3)\n",
    "\n",
    "\n"
   ]
  },
  {
   "cell_type": "code",
   "execution_count": 8,
   "id": "c3b02bb0",
   "metadata": {},
   "outputs": [
    {
     "data": {
      "text/plain": [
       "['Fed is from NJ and runs hurdles', 'Chris is from NJ and runs the 400']"
      ]
     },
     "execution_count": 8,
     "metadata": {},
     "output_type": "execute_result"
    }
   ],
   "source": [
    "#using list comprehension here\n",
    "[doc for doc in v3*docsArray if doc]"
   ]
  },
  {
   "cell_type": "code",
   "execution_count": null,
   "id": "1636f592",
   "metadata": {},
   "outputs": [],
   "source": []
  }
 ],
 "metadata": {
  "kernelspec": {
   "display_name": "Python 3 (ipykernel)",
   "language": "python",
   "name": "python3"
  },
  "language_info": {
   "codemirror_mode": {
    "name": "ipython",
    "version": 3
   },
   "file_extension": ".py",
   "mimetype": "text/x-python",
   "name": "python",
   "nbconvert_exporter": "python",
   "pygments_lexer": "ipython3",
   "version": "3.9.13"
  }
 },
 "nbformat": 4,
 "nbformat_minor": 5
}
