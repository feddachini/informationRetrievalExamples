{
 "cells": [
  {
   "cell_type": "code",
   "execution_count": 21,
   "id": "7d0b78de",
   "metadata": {},
   "outputs": [],
   "source": [
    "review1 = \"Bonelli is awesome and Darius and Fed always chat with him\"\n",
    "review2 = \"Chris has Bonelli for class again\" \n",
    "review3 = \"We always get Pierce together after chatting with Bonelli\"\n",
    "\n",
    "docs = [review1,review2,review3]"
   ]
  },
  {
   "cell_type": "code",
   "execution_count": 22,
   "id": "8cc19ad3",
   "metadata": {},
   "outputs": [
    {
     "data": {
      "text/plain": [
       "{'Bonelli',\n",
       " 'Chris',\n",
       " 'Darius',\n",
       " 'Fed',\n",
       " 'Pierce',\n",
       " 'We',\n",
       " 'after',\n",
       " 'again',\n",
       " 'always',\n",
       " 'and',\n",
       " 'awesome',\n",
       " 'chat',\n",
       " 'chatting',\n",
       " 'class',\n",
       " 'for',\n",
       " 'get',\n",
       " 'has',\n",
       " 'him',\n",
       " 'is',\n",
       " 'together',\n",
       " 'with'}"
      ]
     },
     "execution_count": 22,
     "metadata": {},
     "output_type": "execute_result"
    }
   ],
   "source": [
    "uniqueTerms = {term for doc in docs for term in doc.split()}\n",
    "uniqueTerms"
   ]
  },
  {
   "cell_type": "code",
   "execution_count": 23,
   "id": "54271401",
   "metadata": {},
   "outputs": [
    {
     "data": {
      "text/plain": [
       "{'Bonelli': {0, 1, 2},\n",
       " 'is': {0},\n",
       " 'awesome': {0},\n",
       " 'and': {0},\n",
       " 'Darius': {0},\n",
       " 'Fed': {0},\n",
       " 'always': {0, 2},\n",
       " 'chat': {0},\n",
       " 'with': {0, 2},\n",
       " 'him': {0},\n",
       " 'Chris': {1},\n",
       " 'has': {1},\n",
       " 'for': {1},\n",
       " 'class': {1},\n",
       " 'again': {1},\n",
       " 'We': {2},\n",
       " 'get': {2},\n",
       " 'Pierce': {2},\n",
       " 'together': {2},\n",
       " 'after': {2},\n",
       " 'chatting': {2}}"
      ]
     },
     "execution_count": 23,
     "metadata": {},
     "output_type": "execute_result"
    }
   ],
   "source": [
    "#construct invert index using python dictionary\n",
    "#mapping term to posting list\n",
    "\n",
    "invertedIndex = {}\n",
    "\n",
    "for i, doc in enumerate(docs):\n",
    "    for term in doc.split():\n",
    "        if term in invertedIndex:\n",
    "            invertedIndex[term].add(i)\n",
    "        else: invertedIndex[term] = {i}\n",
    "            \n",
    "invertedIndex"
   ]
  },
  {
   "cell_type": "code",
   "execution_count": 24,
   "id": "d8ccc2a3",
   "metadata": {},
   "outputs": [],
   "source": [
    "#note that although this is implemented using a python dictionary, we should think of this as a hashtable\n",
    "#OR a ditributed hashtable for larger scnearios"
   ]
  },
  {
   "cell_type": "code",
   "execution_count": 25,
   "id": "61584e9c",
   "metadata": {},
   "outputs": [],
   "source": [
    "def orPostings(posting1, posting2):\n",
    "    p1 = 0\n",
    "    p2 = 0\n",
    "    result = list()\n",
    "    while p1 < len(posting1) and p2 < len(posting2):\n",
    "        if posting1[p1] == posting2[p2]:\n",
    "            result.append(posting1[p1])\n",
    "            p1 += 1\n",
    "            p2 += 1\n",
    "        elif posting1[p1] > posting2[p2]:\n",
    "            result.append(posting2[p2])\n",
    "            p2 += 1\n",
    "        else:\n",
    "            result.append(posting1[p1])\n",
    "            p1 += 1\n",
    "    while p1 < len(posting1):\n",
    "        result.append(posting1[p1])\n",
    "        p1 += 1\n",
    "    while p2 < len(posting2):\n",
    "        result.append(posting2[p2])\n",
    "        p2 += 1\n",
    "    return result"
   ]
  },
  {
   "cell_type": "code",
   "execution_count": 26,
   "id": "c9a18e9b",
   "metadata": {},
   "outputs": [],
   "source": [
    "def andPostings(posting1, posting2):\n",
    "    p1 = 0\n",
    "    p2 = 0\n",
    "    result = list()\n",
    "    while p1 < len(posting1) and p2 < len(posting2):\n",
    "        if posting1[p1] == posting2[p2]:\n",
    "            result.append(posting1[p1])\n",
    "            p1 += 1\n",
    "            p2 += 1\n",
    "        elif posting1[p1] > posting2[p2]:\n",
    "            p2 += 1\n",
    "        else:\n",
    "            p1 += 1\n",
    "    return result"
   ]
  },
  {
   "cell_type": "code",
   "execution_count": 27,
   "id": "87e02b57",
   "metadata": {},
   "outputs": [],
   "source": [
    "p1 = list(invertedIndex['Bonelli'])\n",
    "p2 = list(invertedIndex['Fed'])\n",
    "exampleOne = andPostings(p1,p2)"
   ]
  },
  {
   "cell_type": "code",
   "execution_count": 30,
   "id": "d78ba409",
   "metadata": {},
   "outputs": [],
   "source": [
    "p3 = list(invertedIndex['Chris'])\n",
    "p4 = list(invertedIndex['Darius'])\n",
    "exampleTwo = orPostings(p3,p4)"
   ]
  },
  {
   "cell_type": "code",
   "execution_count": 28,
   "id": "ffac16aa",
   "metadata": {},
   "outputs": [],
   "source": [
    "def printResult(docList):\n",
    "    for i in docList:\n",
    "        print(docs[i])"
   ]
  },
  {
   "cell_type": "code",
   "execution_count": 29,
   "id": "f056e0db",
   "metadata": {},
   "outputs": [
    {
     "name": "stdout",
     "output_type": "stream",
     "text": [
      "Bonelli is awesome and Darius and Fed always chat with him\n"
     ]
    }
   ],
   "source": [
    "printResult(exampleOne)"
   ]
  },
  {
   "cell_type": "code",
   "execution_count": 32,
   "id": "e351a829",
   "metadata": {},
   "outputs": [
    {
     "name": "stdout",
     "output_type": "stream",
     "text": [
      "Bonelli is awesome and Darius and Fed always chat with him\n",
      "Chris has Bonelli for class again\n"
     ]
    }
   ],
   "source": [
    "printResult(exampleTwo)"
   ]
  },
  {
   "cell_type": "code",
   "execution_count": null,
   "id": "24cc66d3",
   "metadata": {},
   "outputs": [],
   "source": []
  }
 ],
 "metadata": {
  "kernelspec": {
   "display_name": "Python 3 (ipykernel)",
   "language": "python",
   "name": "python3"
  },
  "language_info": {
   "codemirror_mode": {
    "name": "ipython",
    "version": 3
   },
   "file_extension": ".py",
   "mimetype": "text/x-python",
   "name": "python",
   "nbconvert_exporter": "python",
   "pygments_lexer": "ipython3",
   "version": "3.9.13"
  }
 },
 "nbformat": 4,
 "nbformat_minor": 5
}
